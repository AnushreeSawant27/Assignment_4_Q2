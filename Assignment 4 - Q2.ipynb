{
 "cells": [
  {
   "cell_type": "markdown",
   "id": "352a4fd9",
   "metadata": {},
   "source": [
    "# Write a Python program to triple all numbers of a given list of integers. Use Python map. "
   ]
  },
  {
   "cell_type": "code",
   "execution_count": 4,
   "id": "c1ed5162",
   "metadata": {},
   "outputs": [
    {
     "name": "stdout",
     "output_type": "stream",
     "text": [
      "Triple of list numbers: [3, 6, 9, 12, 15, 18, 21]\n"
     ]
    }
   ],
   "source": [
    "def triple_number(x):\n",
    "    return x * 3\n",
    "\n",
    "numbers = [1, 2, 3, 4, 5, 6, 7]\n",
    "tripled_numbers = list(map(triple_number, numbers))\n",
    "\n",
    "print('Triple of list numbers:',tripled_numbers)"
   ]
  }
 ],
 "metadata": {
  "kernelspec": {
   "display_name": "Python 3 (ipykernel)",
   "language": "python",
   "name": "python3"
  },
  "language_info": {
   "codemirror_mode": {
    "name": "ipython",
    "version": 3
   },
   "file_extension": ".py",
   "mimetype": "text/x-python",
   "name": "python",
   "nbconvert_exporter": "python",
   "pygments_lexer": "ipython3",
   "version": "3.9.12"
  }
 },
 "nbformat": 4,
 "nbformat_minor": 5
}
